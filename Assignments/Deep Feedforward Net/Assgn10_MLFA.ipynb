{
  "nbformat": 4,
  "nbformat_minor": 0,
  "metadata": {
    "colab": {
      "name": "Group57_19ME30051_Assgn10_MLFA.ipynb",
      "provenance": [],
      "collapsed_sections": []
    },
    "kernelspec": {
      "name": "python3",
      "display_name": "Python 3"
    },
    "language_info": {
      "name": "python"
    }
  },
  "cells": [
    {
      "cell_type": "markdown",
      "metadata": {
        "id": "95FPRg5RzRvw"
      },
      "source": [
        "# Group Description\n",
        "---\n",
        "Group 57 (as per sheet available on MS Teams) consists of the following members.\n",
        "\n",
        "1. Abhranil Chandra - 19MF10002\n",
        "2. Duhita Wani - 19ME10082\n",
        "3. Ratnesh Bhosale - 19MF10010\n",
        "4. Sohan Patnaik - 19ME30051\n",
        "5. Vishal Anand - 19ME10080"
      ]
    },
    {
      "cell_type": "markdown",
      "metadata": {
        "id": "E4Yc1sn209RE"
      },
      "source": [
        "# Code for case 1 and case 2\n",
        "---\n",
        "1. Implement a fully connected neural network with one hidden layer in keras/tensorflow. Set the number of neurons in the hidden layer to 100. \n",
        "2. Implement a deep neural network with 10 layers and each layer has 10 neurons. Now, compare the performance of this network with previous network."
      ]
    },
    {
      "cell_type": "markdown",
      "metadata": {
        "id": "inVex2yknisP"
      },
      "source": [
        "# Import the required libraries\n",
        "---"
      ]
    },
    {
      "cell_type": "code",
      "metadata": {
        "id": "rUpvVT_pnCWZ"
      },
      "source": [
        "# Import the required libraries\n",
        "\n",
        "import numpy as np\n",
        "import random as rn\n",
        "import matplotlib.pyplot as plt\n",
        "import tensorflow as tf\n",
        "import keras\n",
        "from sklearn.model_selection import KFold\n",
        "from keras.datasets import mnist\n",
        "from tensorflow.keras.utils import to_categorical\n",
        "from keras.models import Sequential\n",
        "from keras.layers import Conv2D\n",
        "from keras.layers import MaxPooling2D\n",
        "from keras.layers import Dense\n",
        "from keras.layers import Flatten\n",
        "from tensorflow.keras.optimizers import SGD"
      ],
      "execution_count": null,
      "outputs": []
    },
    {
      "cell_type": "markdown",
      "metadata": {
        "id": "JiKwKc2djyAL"
      },
      "source": [
        "# Set the seed for all random variables\n",
        "---"
      ]
    },
    {
      "cell_type": "code",
      "metadata": {
        "id": "MEzKmZ9kj19L"
      },
      "source": [
        "# Set the seed for the randomly initialised variables\n",
        "\n",
        "SEED = 42\n",
        "rn.seed(SEED)\n",
        "tf.random.set_seed(SEED)\n",
        "np.random.seed(SEED)"
      ],
      "execution_count": null,
      "outputs": []
    },
    {
      "cell_type": "markdown",
      "metadata": {
        "id": "oZfN2Q1Joi8s"
      },
      "source": [
        "# Load and Preprocess data\n",
        "---"
      ]
    },
    {
      "cell_type": "code",
      "metadata": {
        "id": "ErH5cgoannWW"
      },
      "source": [
        "# Load train and test dataset\n",
        "\n",
        "def load_dataset():\n",
        "\n",
        "        # Load dataset\n",
        "        (trainX, trainY), (testX, testY) = mnist.load_data()\n",
        "    \n",
        "        # Reshape dataset to have a single channel\n",
        "        trainX = trainX.reshape((trainX.shape[0], 28, 28, 1))\n",
        "        testX = testX.reshape((testX.shape[0], 28, 28, 1))\n",
        "        \n",
        "        # One hot encode target values\n",
        "        trainY = to_categorical(trainY)\n",
        "        testY = to_categorical(testY)\n",
        "        \n",
        "        return trainX, trainY, testX, testY\n",
        " \n",
        "# Scale pixels\n",
        "\n",
        "def prep_pixels(train, test):\n",
        "\n",
        "        # Convert from integers to floats\n",
        "        train_norm = train.astype('float32')\n",
        "        test_norm = test.astype('float32')\n",
        "        \n",
        "        # Normalize to range 0-1\n",
        "        train_norm = train_norm / 255.0\n",
        "        test_norm = test_norm / 255.0\n",
        "        \n",
        "        # Return normalized images\n",
        "        return train_norm, test_norm"
      ],
      "execution_count": null,
      "outputs": []
    },
    {
      "cell_type": "markdown",
      "metadata": {
        "id": "1TNh3Z6xpBMv"
      },
      "source": [
        "# Model definition, training and evaluation\n",
        "---"
      ]
    },
    {
      "cell_type": "code",
      "metadata": {
        "id": "9-QuVtf9ohrO"
      },
      "source": [
        "# Define cnn model\n",
        "\n",
        "def create_one_hidden_layer_model():\n",
        "\n",
        "        model = Sequential()\n",
        "\n",
        "        # Layer to flatten the grey-scale images into vector form \n",
        "        model.add(Flatten())\n",
        "        \n",
        "        # Hidden layer with 100 neurons with relu activation\n",
        "        model.add(Dense(100, activation='relu', kernel_initializer='he_uniform'))\n",
        "        \n",
        "        # Output layer with 10 neurons and softmax activation\n",
        "        model.add(Dense(10, activation='softmax'))\n",
        "        \n",
        "        # Compile model (Stochastic Gradient Descent optimiser)\n",
        "        optimizer = SGD(learning_rate = 0.01, momentum = 0.9)\n",
        "        model.compile(optimizer = optimizer, loss = 'categorical_crossentropy', metrics = ['accuracy'])\n",
        "\n",
        "        # Return the compiled model\n",
        "        return model\n",
        "\n",
        "def create_ten_hidden_layer_model():\n",
        "\n",
        "        model = Sequential()\n",
        "\n",
        "        # Layer to flatten the grey-scale images into vector form \n",
        "        model.add(Flatten())\n",
        "        \n",
        "        # 10 Hidden layers with 10 neurons with relu activation\n",
        "        model.add(Dense(10, activation='relu', kernel_initializer='he_uniform'))\n",
        "        model.add(Dense(10, activation='relu', kernel_initializer='he_uniform'))\n",
        "        model.add(Dense(10, activation='relu', kernel_initializer='he_uniform'))\n",
        "        model.add(Dense(10, activation='relu', kernel_initializer='he_uniform'))\n",
        "        model.add(Dense(10, activation='relu', kernel_initializer='he_uniform'))\n",
        "        model.add(Dense(10, activation='relu', kernel_initializer='he_uniform'))\n",
        "        model.add(Dense(10, activation='relu', kernel_initializer='he_uniform'))\n",
        "        model.add(Dense(10, activation='relu', kernel_initializer='he_uniform'))\n",
        "        model.add(Dense(10, activation='relu', kernel_initializer='he_uniform'))\n",
        "        model.add(Dense(10, activation='relu', kernel_initializer='he_uniform'))\n",
        "        \n",
        "        # Output layer with 10 neurons and softmax activation\n",
        "        model.add(Dense(10, activation='softmax'))\n",
        "        \n",
        "        # Compile model (Stochastic Gradient Descent optimiser)\n",
        "        optimizer = SGD(learning_rate = 0.01, momentum = 0.9)\n",
        "        model.compile(optimizer = optimizer, loss = 'categorical_crossentropy', metrics = ['accuracy'])\n",
        "\n",
        "        # Return the compiled model\n",
        "        return model\n",
        "\n",
        "# Train model\n",
        "\n",
        "def train_model(dataX, dataY):\n",
        "\n",
        "        # One hidden layer model\n",
        "        model_one_hidden_layer = create_one_hidden_layer_model()\n",
        "\n",
        "        # Train one hidden layer model for 5 epochs \n",
        "        print(\"Training model with one hidden layer for 10 epochs\")\n",
        "        print()\n",
        "        history_one_hidden_layer = model_one_hidden_layer.fit(dataX, dataY, epochs = 10, validation_split = 0.1,   batch_size = 32, verbose = True)\n",
        "        print()\n",
        "\n",
        "        # Accuracy of training set for one hidden layer model\n",
        "        print(\"Evaluating model with one hidden layer on training set\")\n",
        "        print()\n",
        "        _, accuracy_one_hidden_layer = model_one_hidden_layer.evaluate(dataX, dataY, verbose = True)\n",
        "        print()\n",
        "\n",
        "        # Ten hidden layers model\n",
        "        model_ten_hidden_layer = create_ten_hidden_layer_model()\n",
        "\n",
        "        # Train ten hidden layer model for 10 epochs \n",
        "        print(\"Training model with ten hidden layers for 10 epochs\")\n",
        "        print()\n",
        "        history_ten_hidden_layer = model_ten_hidden_layer.fit(dataX, dataY, epochs = 10, validation_split = 0.1,   batch_size = 32, verbose = True)\n",
        "        print()\n",
        "        \n",
        "        # Accuracy of training set for one hidden layer model\n",
        "        print(\"Evaluating model with ten hidden layer on training set\")\n",
        "        print()\n",
        "        _, accuracy_ten_hidden_layer = model_ten_hidden_layer.evaluate(dataX, dataY, verbose = True)\n",
        "        print()\n",
        "        print()\n",
        "\n",
        "        # Return the models, histories and the accuracies\n",
        "        return (model_one_hidden_layer, model_ten_hidden_layer , history_one_hidden_layer, history_ten_hidden_layer), (accuracy_one_hidden_layer, accuracy_ten_hidden_layer)\n",
        " \n",
        "# Function to evaluate model on test set\n",
        "\n",
        "def evaluate_model(testX, testY, model):\n",
        "\n",
        "        _, accuracy = model.evaluate(testX, testY, verbose = True)\n",
        "        return accuracy\n",
        "\n",
        "def plot_accuracy_per_epoch(history1, history2):\n",
        "\n",
        "        # Plot the training and validation accuracy for model with one hidden layer\n",
        "        fig, ax = plt.subplots(1, 2, figsize = (15, 5))\n",
        "        ax[0].plot(history1.history['accuracy'])\n",
        "        ax[0].plot(history1.history['val_accuracy'])\n",
        "        ax[0].set_title(\"Model accuracy for one hidden layer\")\n",
        "        ax[0].set_xlabel(\"Number of epochs\")\n",
        "        ax[0].set_ylabel(\"Accuracy\")\n",
        "        ax[0].legend(['train', 'validation'], loc = 'lower right')\n",
        "\n",
        "        # Plot the training and validation accuracy for model with ten hidden layer\n",
        "        ax[1].plot(history2.history['accuracy'])\n",
        "        ax[1].plot(history2.history['val_accuracy'])\n",
        "        ax[1].set_title(\"Model accuracy for ten hidden layers\")\n",
        "        ax[1].set_xlabel(\"Number of epochs\")\n",
        "        ax[1].set_ylabel(\"Accuracy\")\n",
        "        ax[1].legend(['train', 'validation'], loc = 'lower right')\n",
        "\n",
        "        plt.show()\n",
        "\n",
        "def plot_loss_per_epoch(history1, history2):\n",
        "\n",
        "        # Plot the training and validation loss for model with one hidden layer\n",
        "        fig, ax = plt.subplots(1, 2, figsize = (15, 5))\n",
        "        ax[0].plot(history1.history['loss'])\n",
        "        ax[0].plot(history1.history['val_loss'])\n",
        "        ax[0].set_title(\"Model loss for one hidden layer\")\n",
        "        ax[0].set_xlabel(\"Number of epochs\")\n",
        "        ax[0].set_ylabel(\"Loss\")\n",
        "        ax[0].legend(['train', 'validation'], loc = 'lower right')\n",
        "\n",
        "        # Plot the training and validation loss for model with ten hidden layer\n",
        "        ax[1].plot(history2.history['loss'])\n",
        "        ax[1].plot(history2.history['val_loss'])\n",
        "        ax[1].set_title(\"Model loss for ten hidden layers\")\n",
        "        ax[1].set_xlabel(\"Number of epochs\")\n",
        "        ax[1].set_ylabel(\"Loss\")\n",
        "        ax[1].legend(['train', 'validation'], loc = 'lower right')\n",
        "\n",
        "        plt.show()        \n",
        "\n",
        "# Main function with all function calls and evaluation\n",
        "\n",
        "def main():\n",
        "\n",
        "        # Load the MNIST dataset\n",
        "        print()\n",
        "        trainX, trainY, testX, testY = load_dataset()\n",
        "        print()\n",
        "\n",
        "        # Prepare pixel data\n",
        "        trainX, testX = prep_pixels(trainX, testX)\n",
        "        \n",
        "        # Call train function to get trained models\n",
        "        (model_one_hidden_layer, model_ten_hidden_layer , history_one_hidden_layer, history_ten_hidden_layer), (accuracy_one_hidden_layer, accuracy_ten_hidden_layer) = train_model(trainX, trainY)\n",
        "\n",
        "        # Calculate accuracies on the test set\n",
        "        test_accuracy_one_hidden_layer = evaluate_model(testX, testY, model_one_hidden_layer)\n",
        "        test_accuracy_ten_hidden_layer = evaluate_model(testX, testY, model_ten_hidden_layer)\n",
        "\n",
        "        print()\n",
        "        print(\"Plot loss and accuracy of the training set for both type of models\")\n",
        "        plot_loss_per_epoch(history_one_hidden_layer, history_ten_hidden_layer)        \n",
        "        plot_accuracy_per_epoch(history_one_hidden_layer, history_ten_hidden_layer)        \n",
        "\n",
        "        print()\n",
        "        print(\"Final results are as follows\")\n",
        "        print()\n",
        "        print(\"The training accuracy for model with one hidden layer is {:.5f}\".format(accuracy_one_hidden_layer))\n",
        "        print(\"The test accuracy for model with one hidden layer is {:.5f}\".format(test_accuracy_one_hidden_layer))\n",
        "        print()\n",
        "        print(\"The training accuracy for model with ten hidden layers is {:.5f}\".format(accuracy_ten_hidden_layer))\n",
        "        print(\"The test accuracy for model with ten hidden layer is {:.5f}\".format(test_accuracy_ten_hidden_layer))"
      ],
      "execution_count": null,
      "outputs": []
    },
    {
      "cell_type": "code",
      "metadata": {
        "colab": {
          "base_uri": "https://localhost:8080/",
          "height": 1000
        },
        "id": "0yzXIj82u4gW",
        "outputId": "c61eceae-af4e-4416-811c-54cd5eb86ae2"
      },
      "source": [
        "main()"
      ],
      "execution_count": null,
      "outputs": [
        {
          "output_type": "stream",
          "name": "stdout",
          "text": [
            "\n",
            "Downloading data from https://storage.googleapis.com/tensorflow/tf-keras-datasets/mnist.npz\n",
            "11493376/11490434 [==============================] - 0s 0us/step\n",
            "11501568/11490434 [==============================] - 0s 0us/step\n",
            "\n",
            "Training model with one hidden layer for 10 epochs\n",
            "\n",
            "Epoch 1/10\n",
            "1688/1688 [==============================] - 4s 2ms/step - loss: 0.3324 - accuracy: 0.9037 - val_loss: 0.1579 - val_accuracy: 0.9583\n",
            "Epoch 2/10\n",
            "1688/1688 [==============================] - 3s 2ms/step - loss: 0.1605 - accuracy: 0.9533 - val_loss: 0.1219 - val_accuracy: 0.9643\n",
            "Epoch 3/10\n",
            "1688/1688 [==============================] - 3s 2ms/step - loss: 0.1167 - accuracy: 0.9666 - val_loss: 0.0966 - val_accuracy: 0.9728\n",
            "Epoch 4/10\n",
            "1688/1688 [==============================] - 3s 2ms/step - loss: 0.0937 - accuracy: 0.9725 - val_loss: 0.0897 - val_accuracy: 0.9735\n",
            "Epoch 5/10\n",
            "1688/1688 [==============================] - 3s 2ms/step - loss: 0.0778 - accuracy: 0.9772 - val_loss: 0.0803 - val_accuracy: 0.9770\n",
            "Epoch 6/10\n",
            "1688/1688 [==============================] - 3s 2ms/step - loss: 0.0660 - accuracy: 0.9806 - val_loss: 0.0818 - val_accuracy: 0.9772\n",
            "Epoch 7/10\n",
            "1688/1688 [==============================] - 3s 2ms/step - loss: 0.0565 - accuracy: 0.9831 - val_loss: 0.0731 - val_accuracy: 0.9792\n",
            "Epoch 8/10\n",
            "1688/1688 [==============================] - 3s 2ms/step - loss: 0.0494 - accuracy: 0.9853 - val_loss: 0.0730 - val_accuracy: 0.9790\n",
            "Epoch 9/10\n",
            "1688/1688 [==============================] - 3s 2ms/step - loss: 0.0430 - accuracy: 0.9878 - val_loss: 0.0744 - val_accuracy: 0.9797\n",
            "Epoch 10/10\n",
            "1688/1688 [==============================] - 3s 2ms/step - loss: 0.0378 - accuracy: 0.9888 - val_loss: 0.0709 - val_accuracy: 0.9802\n",
            "\n",
            "Evaluating model with one hidden layer on training set\n",
            "\n",
            "1875/1875 [==============================] - 3s 2ms/step - loss: 0.0324 - accuracy: 0.9918\n",
            "\n",
            "Training model with ten hidden layers for 10 epochs\n",
            "\n",
            "Epoch 1/10\n",
            "1688/1688 [==============================] - 4s 2ms/step - loss: 1.0802 - accuracy: 0.6220 - val_loss: 0.6757 - val_accuracy: 0.7485\n",
            "Epoch 2/10\n",
            "1688/1688 [==============================] - 3s 2ms/step - loss: 0.6823 - accuracy: 0.7633 - val_loss: 0.6516 - val_accuracy: 0.7763\n",
            "Epoch 3/10\n",
            "1688/1688 [==============================] - 3s 2ms/step - loss: 0.6110 - accuracy: 0.7849 - val_loss: 0.5377 - val_accuracy: 0.7980\n",
            "Epoch 4/10\n",
            "1688/1688 [==============================] - 3s 2ms/step - loss: 0.5775 - accuracy: 0.7933 - val_loss: 0.4788 - val_accuracy: 0.8137\n",
            "Epoch 5/10\n",
            "1688/1688 [==============================] - 3s 2ms/step - loss: 0.5438 - accuracy: 0.7993 - val_loss: 0.4826 - val_accuracy: 0.8170\n",
            "Epoch 6/10\n",
            "1688/1688 [==============================] - 3s 2ms/step - loss: 0.5319 - accuracy: 0.8034 - val_loss: 0.4675 - val_accuracy: 0.8230\n",
            "Epoch 7/10\n",
            "1688/1688 [==============================] - 3s 2ms/step - loss: 0.5171 - accuracy: 0.8090 - val_loss: 0.4658 - val_accuracy: 0.8255\n",
            "Epoch 8/10\n",
            "1688/1688 [==============================] - 3s 2ms/step - loss: 0.5062 - accuracy: 0.8170 - val_loss: 0.4500 - val_accuracy: 0.8380\n",
            "Epoch 9/10\n",
            "1688/1688 [==============================] - 3s 2ms/step - loss: 0.4834 - accuracy: 0.8471 - val_loss: 0.4462 - val_accuracy: 0.8708\n",
            "Epoch 10/10\n",
            "1688/1688 [==============================] - 3s 2ms/step - loss: 0.4524 - accuracy: 0.8712 - val_loss: 0.3881 - val_accuracy: 0.8987\n",
            "\n",
            "Evaluating model with ten hidden layer on training set\n",
            "\n",
            "1875/1875 [==============================] - 3s 2ms/step - loss: 0.4320 - accuracy: 0.8824\n",
            "\n",
            "\n",
            "313/313 [==============================] - 0s 1ms/step - loss: 0.0749 - accuracy: 0.9770\n",
            "313/313 [==============================] - 0s 1ms/step - loss: 0.4334 - accuracy: 0.8800\n",
            "\n",
            "Plot loss and accuracy of the training set for both type of models\n"
          ]
        },
        {
          "output_type": "display_data",
          "data": {
            "image/png": "[encoded data removed]",
            "text/plain": [
              "<Figure size 1080x360 with 2 Axes>"
            ]
          },
          "metadata": {
            "needs_background": "light"
          }
        },
        {
          "output_type": "display_data",
          "data": {
            "image/png": "[encoded data removed]",
            "text/plain": [
              "<Figure size 1080x360 with 2 Axes>"
            ]
          },
          "metadata": {
            "needs_background": "light"
          }
        },
        {
          "output_type": "stream",
          "name": "stdout",
          "text": [
            "\n",
            "Final results are as follows\n",
            "\n",
            "The training accuracy for model with one hidden layer is 0.99183\n",
            "The test accuracy for model with one hidden layer is 0.97700\n",
            "\n",
            "The training accuracy for model with ten hidden layers is 0.88243\n",
            "The test accuracy for model with ten hidden layer is 0.88000\n"
          ]
        }
      ]
    },
    {
      "cell_type": "markdown",
      "metadata": {
        "id": "4j_IsB341of0"
      },
      "source": [
        "# Analysis of the models\n",
        "---\n",
        "As it is clearly visible from the training and test accuracy that the model with one hidden layer with 100 neurons outperforms the model with 10 hidden layers each with 10 neurons. Only one result is shown in the cell, but this experiment was carried several times with different seed setting to make sure that the result is consistent. Though the number of parameters remains same in the model, the shallower network performs better than the deeper network. The reason might be that the shallower network was able to capture the features more extensively in the image. Moreover, as the number of layers increases, the complexity of the model increases, hence leading to overfitting. Therefore, the deeper model fails to generalise better to the test set. "
      ]
    },
    {
      "cell_type": "markdown",
      "metadata": {
        "id": "iS04BpOVqt4j"
      },
      "source": [
        "# Code for case 3\n",
        "---\n",
        "3. Write another program that will asses the quality of features generated by the 10 layer deep network in its different layers. For this, train the deep network first. Then generate the features from hidden layers 5, 7 and 10 separately and use it k-nearest neighbor classifier to classify the images and compare the performances of the features generated from layers 5, 7 and 10. The features in a layer mean the activation values of the neurons in that particular layer."
      ]
    },
    {
      "cell_type": "markdown",
      "metadata": {
        "id": "WZ5dtwVxriYB"
      },
      "source": [
        "# Import the required libraries\n",
        "---"
      ]
    },
    {
      "cell_type": "code",
      "metadata": {
        "id": "NUejBJtZu_nD"
      },
      "source": [
        "# Import the required libraries\n",
        "\n",
        "import numpy as np\n",
        "import random as rn\n",
        "import matplotlib.pyplot as plt\n",
        "import tensorflow as tf\n",
        "import keras\n",
        "from sklearn.model_selection import KFold\n",
        "from keras.datasets import mnist\n",
        "from tensorflow.keras.utils import to_categorical\n",
        "from keras.models import Sequential\n",
        "from keras.layers import Conv2D\n",
        "from keras.layers import MaxPooling2D\n",
        "from keras.layers import Dense\n",
        "from keras.layers import Flatten\n",
        "from tensorflow.keras.optimizers import SGD\n",
        "from tensorflow.keras import backend as K\n",
        "from sklearn.neighbors import KNeighborsClassifier \n",
        "from sklearn.metrics import accuracy_score"
      ],
      "execution_count": null,
      "outputs": []
    },
    {
      "cell_type": "markdown",
      "metadata": {
        "id": "5P-Z04LcsNi4"
      },
      "source": [
        "# Set the seed for all random variables\n",
        "---"
      ]
    },
    {
      "cell_type": "code",
      "metadata": {
        "id": "3zLmpXnVsJFr"
      },
      "source": [
        "# Set the seed for the randomly initialised variables\n",
        "\n",
        "SEED = 42\n",
        "rn.seed(SEED)\n",
        "tf.random.set_seed(SEED)\n",
        "np.random.seed(SEED)"
      ],
      "execution_count": null,
      "outputs": []
    },
    {
      "cell_type": "markdown",
      "metadata": {
        "id": "3vioh4jmsTD_"
      },
      "source": [
        "# Load and preprocess data\n",
        "---"
      ]
    },
    {
      "cell_type": "code",
      "metadata": {
        "id": "409PjHNdsSOO"
      },
      "source": [
        "# Load train and test dataset\n",
        "\n",
        "def load_dataset():\n",
        "        \n",
        "        # Load dataset\n",
        "        (trainX, trainY), (testX, testY) = mnist.load_data()\n",
        "    \n",
        "        # Reshape dataset to have a single channel\n",
        "        trainX = trainX.reshape((trainX.shape[0], 28, 28, 1))\n",
        "        testX = testX.reshape((testX.shape[0], 28, 28, 1))\n",
        "        \n",
        "        # One hot encode target values\n",
        "        trainY = to_categorical(trainY)\n",
        "        testY = to_categorical(testY)\n",
        "        \n",
        "        return trainX, trainY, testX, testY\n",
        " \n",
        "# Scale pixels\n",
        "\n",
        "def prep_pixels(train, test):\n",
        "\n",
        "        # Convert from integers to floats\n",
        "        train_norm = train.astype('float32')\n",
        "        test_norm = test.astype('float32')\n",
        "        \n",
        "        # Normalize to range 0-1\n",
        "        train_norm = train_norm / 255.0\n",
        "        test_norm = test_norm / 255.0\n",
        "        \n",
        "        # Return normalized images\n",
        "        return train_norm, test_norm"
      ],
      "execution_count": null,
      "outputs": []
    },
    {
      "cell_type": "markdown",
      "metadata": {
        "id": "u8v-rJaUsfCp"
      },
      "source": [
        "# Model definition, training and fitting of KNN\n",
        "---"
      ]
    },
    {
      "cell_type": "code",
      "metadata": {
        "id": "re9w-cjUsbdv"
      },
      "source": [
        "def create_ten_hidden_layer_model():\n",
        "\n",
        "        model = Sequential()\n",
        "\n",
        "        # Layer to flatten the grey-scale images into vector form\n",
        "        model.add(Flatten())\n",
        "        \n",
        "        # 10 Hidden layers with 10 neurons with relu activation\n",
        "        model.add(Dense(10, activation='relu', kernel_initializer='he_uniform'))\n",
        "        model.add(Dense(10, activation='relu', kernel_initializer='he_uniform'))\n",
        "        model.add(Dense(10, activation='relu', kernel_initializer='he_uniform'))\n",
        "        model.add(Dense(10, activation='relu', kernel_initializer='he_uniform'))\n",
        "        model.add(Dense(10, activation='relu', kernel_initializer='he_uniform'))\n",
        "        model.add(Dense(10, activation='relu', kernel_initializer='he_uniform'))\n",
        "        model.add(Dense(10, activation='relu', kernel_initializer='he_uniform'))\n",
        "        model.add(Dense(10, activation='relu', kernel_initializer='he_uniform'))\n",
        "        model.add(Dense(10, activation='relu', kernel_initializer='he_uniform'))\n",
        "        model.add(Dense(10, activation='relu', kernel_initializer='he_uniform'))\n",
        "        \n",
        "        # Output layer with 10 neurons and softmax activation\n",
        "        model.add(Dense(10, activation='softmax'))\n",
        "        \n",
        "        # Compile model (Stochastic Gradient Descent optimiser)\n",
        "        optimizer = SGD(learning_rate = 0.01, momentum = 0.9)\n",
        "        model.compile(optimizer = optimizer, loss = 'categorical_crossentropy', metrics = ['accuracy'])\n",
        "\n",
        "        # Return the compiled model\n",
        "        return model\n",
        "\n",
        "# Train model\n",
        "\n",
        "def train_model(dataX, dataY):\n",
        "\n",
        "        # Ten hidden layers model\n",
        "        model_ten_hidden_layer = create_ten_hidden_layer_model()\n",
        "\n",
        "        # Train ten hidden layer model for 10 epochs \n",
        "        print(\"Training model with ten hidden layers for 10 epochs\")\n",
        "        print()\n",
        "        history_ten_hidden_layer = model_ten_hidden_layer.fit(dataX, dataY, epochs = 10, validation_split = 0.1,   batch_size = 32, verbose = True)\n",
        "        print()\n",
        "        \n",
        "        # Accuracy of training set for one hidden layer model\n",
        "        print(\"Evaluating model with ten hidden layer on training set\")\n",
        "        print()\n",
        "        _, accuracy_ten_hidden_layer = model_ten_hidden_layer.evaluate(dataX, dataY, verbose = True)\n",
        "        print()\n",
        "        print()\n",
        "\n",
        "        # Return the models, histories and the accuracies\n",
        "        return model_ten_hidden_layer, history_ten_hidden_layer, accuracy_ten_hidden_layer\n",
        "\n",
        "def k_nearest_neighbors_classifier(trainX, trainY, testX, testY):\n",
        "\n",
        "        knn = KNeighborsClassifier()\n",
        "        knn.fit(trainX, trainY)\n",
        "        \n",
        "        train_predY = knn.predict(trainX)\n",
        "        train_accuracy = accuracy_score(train_predY, trainY)\n",
        "\n",
        "        test_predY = knn.predict(testX)\n",
        "        test_accuracy = accuracy_score(test_predY, testY)    \n",
        "        \n",
        "        return train_accuracy, test_accuracy\n",
        "\n",
        "def main():\n",
        "\n",
        "        print()\n",
        "        # Load the MNIST dataset\n",
        "        trainX, trainY, testX, testY = load_dataset()\n",
        "        print()\n",
        "\n",
        "        # Prepare pixel data\n",
        "        trainX, testX = prep_pixels(trainX, testX)\n",
        "        \n",
        "        # Call train function to get trained models\n",
        "        model_ten_hidden_layer, history_ten_hidden_layer, accuracy_ten_hidden_layer = train_model(trainX, trainY)\n",
        "\n",
        "        # Define list of feature extraction layers\n",
        "        feature_extraction_layers = [5, 7, 10]\n",
        "\n",
        "        # Fit KNN model for each of the mentioned layers and report training and test accuray\n",
        "        print(\"Fitting and evaluating KNN model\")\n",
        "        print()\n",
        "        for i, layer in enumerate(model_ten_hidden_layer.layers):\n",
        "                \n",
        "                if ((i+1) in feature_extraction_layers):\n",
        "                        \n",
        "                        func = K.function([model_ten_hidden_layer.get_layer(index = 0).input], layer.output)\n",
        "                        trainX_features = func([trainX])  \n",
        "                        testX_features = func([testX])  \n",
        "\n",
        "                        train_accuracy, test_accuracy = k_nearest_neighbors_classifier(trainX_features, trainY, testX_features, testY)\n",
        "\n",
        "                        print(\"For {}th layer features, training accuracy: {:.5f}, test accuracy: {:.5f}\".format(i+1, train_accuracy, test_accuracy))"
      ],
      "execution_count": null,
      "outputs": []
    },
    {
      "cell_type": "code",
      "metadata": {
        "colab": {
          "base_uri": "https://localhost:8080/"
        },
        "id": "mp9L5bK2veYW",
        "outputId": "6ea9c65d-70bc-4ddc-99fb-26f354604399"
      },
      "source": [
        "main()"
      ],
      "execution_count": null,
      "outputs": [
        {
          "output_type": "stream",
          "name": "stdout",
          "text": [
            "\n",
            "Downloading data from https://storage.googleapis.com/tensorflow/tf-keras-datasets/mnist.npz\n",
            "11493376/11490434 [==============================] - 0s 0us/step\n",
            "11501568/11490434 [==============================] - 0s 0us/step\n",
            "\n",
            "Training model with ten hidden layers for 10 epochs\n",
            "\n",
            "Epoch 1/10\n",
            "1688/1688 [==============================] - 4s 2ms/step - loss: 0.9548 - accuracy: 0.6627 - val_loss: 0.5991 - val_accuracy: 0.8298\n",
            "Epoch 2/10\n",
            "1688/1688 [==============================] - 3s 2ms/step - loss: 0.5823 - accuracy: 0.8359 - val_loss: 0.4178 - val_accuracy: 0.8943\n",
            "Epoch 3/10\n",
            "1688/1688 [==============================] - 3s 2ms/step - loss: 0.5008 - accuracy: 0.8657 - val_loss: 0.4031 - val_accuracy: 0.8905\n",
            "Epoch 4/10\n",
            "1688/1688 [==============================] - 3s 2ms/step - loss: 0.4205 - accuracy: 0.8869 - val_loss: 0.3419 - val_accuracy: 0.9090\n",
            "Epoch 5/10\n",
            "1688/1688 [==============================] - 3s 2ms/step - loss: 0.3988 - accuracy: 0.8933 - val_loss: 0.3433 - val_accuracy: 0.9113\n",
            "Epoch 6/10\n",
            "1688/1688 [==============================] - 3s 2ms/step - loss: 0.3794 - accuracy: 0.8981 - val_loss: 0.3220 - val_accuracy: 0.9180\n",
            "Epoch 7/10\n",
            "1688/1688 [==============================] - 3s 2ms/step - loss: 0.3631 - accuracy: 0.9020 - val_loss: 0.2917 - val_accuracy: 0.9245\n",
            "Epoch 8/10\n",
            "1688/1688 [==============================] - 3s 2ms/step - loss: 0.3621 - accuracy: 0.9024 - val_loss: 0.3233 - val_accuracy: 0.9112\n",
            "Epoch 9/10\n",
            "1688/1688 [==============================] - 3s 2ms/step - loss: 0.3623 - accuracy: 0.9036 - val_loss: 0.3133 - val_accuracy: 0.9135\n",
            "Epoch 10/10\n",
            "1688/1688 [==============================] - 3s 2ms/step - loss: 0.3463 - accuracy: 0.9080 - val_loss: 0.3179 - val_accuracy: 0.9195\n",
            "\n",
            "Evaluating model with ten hidden layer on training set\n",
            "\n",
            "1875/1875 [==============================] - 4s 2ms/step - loss: 0.3544 - accuracy: 0.9089\n",
            "\n",
            "\n",
            "Fitting and evaluating KNN model\n",
            "\n",
            "For 5th layer features, training accuracy: 0.92055, test accuracy: 0.89980\n",
            "For 7th layer features, training accuracy: 0.91663, test accuracy: 0.89730\n",
            "For 10th layer features, training accuracy: 0.91337, test accuracy: 0.89440\n"
          ]
        }
      ]
    },
    {
      "cell_type": "markdown",
      "metadata": {
        "id": "6_28mrt-xxNP"
      },
      "source": [
        "# Analysis of features extracted from different layers\n",
        "---\n",
        "As it can be seen from both the training and test set accuracy, the features extracted from layer 5 performs better than that of layer 7 which again performs better than that of layer 10. The reason for this may be attributed to the fact that as the we go deep into the network, the activation do not give a generalised feature representation of the input image. The features tend to be a representation responsible for giving correct output for that particular case. So, the layer in the middle performs better. "
      ]
    }
  ]
}