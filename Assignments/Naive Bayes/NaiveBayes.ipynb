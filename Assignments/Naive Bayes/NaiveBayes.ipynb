{
  "nbformat": 4,
  "nbformat_minor": 0,
  "metadata": {
    "colab": {
      "name": "57_Ratnesh_Bhosale_NaiveBayes (1).ipynb",
      "provenance": []
    },
    "kernelspec": {
      "display_name": "Python 3",
      "language": "python",
      "name": "python3"
    },
    "language_info": {
      "codemirror_mode": {
        "name": "ipython",
        "version": 3
      },
      "file_extension": ".py",
      "mimetype": "text/x-python",
      "name": "python",
      "nbconvert_exporter": "python",
      "pygments_lexer": "ipython3",
      "version": "3.6.9"
    }
  },
  "cells": [
    {
      "cell_type": "code",
      "metadata": {
        "id": "NK2atPeSSb4X"
      },
      "source": [
        "# Do not make any changes in this cell\n",
        "# Simply execute it and move on\n",
        "\n",
        "import pandas as pd  \n",
        "import numpy as np \n",
        "import matplotlib.pyplot as plt\n",
        "import json\n",
        "ans = [0]*8"
      ],
      "execution_count": null,
      "outputs": []
    },
    {
      "cell_type": "code",
      "metadata": {
        "id": "Rkzprys5Ssux",
        "colab": {
          "base_uri": "https://localhost:8080/",
          "height": 419
        },
        "outputId": "4587ec10-9a3d-4e76-fed7-d773f06a0f80"
      },
      "source": [
        "# Simply execute this cell and move on\n",
        "\n",
        "#Import the dataset and define the feature as well as the target datasets / columns  \n",
        "dataset = pd.read_csv('heart.csv')  \n",
        "#We drop the 'trestbps','chol','thalach','oldpeak' as they have numerical values  \n",
        "dataset=dataset.drop('trestbps',axis=1) \n",
        "dataset=dataset.drop('chol',axis=1) \n",
        "dataset=dataset.drop('thalach',axis=1) \n",
        "dataset=dataset.drop('oldpeak',axis=1) \n",
        "dataset"
      ],
      "execution_count": null,
      "outputs": [
        {
          "output_type": "execute_result",
          "data": {
            "text/html": [
              "<div>\n",
              "<style scoped>\n",
              "    .dataframe tbody tr th:only-of-type {\n",
              "        vertical-align: middle;\n",
              "    }\n",
              "\n",
              "    .dataframe tbody tr th {\n",
              "        vertical-align: top;\n",
              "    }\n",
              "\n",
              "    .dataframe thead th {\n",
              "        text-align: right;\n",
              "    }\n",
              "</style>\n",
              "<table border=\"1\" class=\"dataframe\">\n",
              "  <thead>\n",
              "    <tr style=\"text-align: right;\">\n",
              "      <th></th>\n",
              "      <th>age</th>\n",
              "      <th>sex</th>\n",
              "      <th>cp</th>\n",
              "      <th>fbs</th>\n",
              "      <th>restecg</th>\n",
              "      <th>exang</th>\n",
              "      <th>slope</th>\n",
              "      <th>ca</th>\n",
              "      <th>thal</th>\n",
              "      <th>target</th>\n",
              "    </tr>\n",
              "  </thead>\n",
              "  <tbody>\n",
              "    <tr>\n",
              "      <th>0</th>\n",
              "      <td>63</td>\n",
              "      <td>1</td>\n",
              "      <td>3</td>\n",
              "      <td>1</td>\n",
              "      <td>0</td>\n",
              "      <td>0</td>\n",
              "      <td>0</td>\n",
              "      <td>0</td>\n",
              "      <td>1</td>\n",
              "      <td>1</td>\n",
              "    </tr>\n",
              "    <tr>\n",
              "      <th>1</th>\n",
              "      <td>37</td>\n",
              "      <td>1</td>\n",
              "      <td>2</td>\n",
              "      <td>0</td>\n",
              "      <td>1</td>\n",
              "      <td>0</td>\n",
              "      <td>0</td>\n",
              "      <td>0</td>\n",
              "      <td>2</td>\n",
              "      <td>1</td>\n",
              "    </tr>\n",
              "    <tr>\n",
              "      <th>2</th>\n",
              "      <td>41</td>\n",
              "      <td>0</td>\n",
              "      <td>1</td>\n",
              "      <td>0</td>\n",
              "      <td>0</td>\n",
              "      <td>0</td>\n",
              "      <td>2</td>\n",
              "      <td>0</td>\n",
              "      <td>2</td>\n",
              "      <td>1</td>\n",
              "    </tr>\n",
              "    <tr>\n",
              "      <th>3</th>\n",
              "      <td>56</td>\n",
              "      <td>1</td>\n",
              "      <td>1</td>\n",
              "      <td>0</td>\n",
              "      <td>1</td>\n",
              "      <td>0</td>\n",
              "      <td>2</td>\n",
              "      <td>0</td>\n",
              "      <td>2</td>\n",
              "      <td>1</td>\n",
              "    </tr>\n",
              "    <tr>\n",
              "      <th>4</th>\n",
              "      <td>57</td>\n",
              "      <td>0</td>\n",
              "      <td>0</td>\n",
              "      <td>0</td>\n",
              "      <td>1</td>\n",
              "      <td>1</td>\n",
              "      <td>2</td>\n",
              "      <td>0</td>\n",
              "      <td>2</td>\n",
              "      <td>1</td>\n",
              "    </tr>\n",
              "    <tr>\n",
              "      <th>...</th>\n",
              "      <td>...</td>\n",
              "      <td>...</td>\n",
              "      <td>...</td>\n",
              "      <td>...</td>\n",
              "      <td>...</td>\n",
              "      <td>...</td>\n",
              "      <td>...</td>\n",
              "      <td>...</td>\n",
              "      <td>...</td>\n",
              "      <td>...</td>\n",
              "    </tr>\n",
              "    <tr>\n",
              "      <th>298</th>\n",
              "      <td>57</td>\n",
              "      <td>0</td>\n",
              "      <td>0</td>\n",
              "      <td>0</td>\n",
              "      <td>1</td>\n",
              "      <td>1</td>\n",
              "      <td>1</td>\n",
              "      <td>0</td>\n",
              "      <td>3</td>\n",
              "      <td>0</td>\n",
              "    </tr>\n",
              "    <tr>\n",
              "      <th>299</th>\n",
              "      <td>45</td>\n",
              "      <td>1</td>\n",
              "      <td>3</td>\n",
              "      <td>0</td>\n",
              "      <td>1</td>\n",
              "      <td>0</td>\n",
              "      <td>1</td>\n",
              "      <td>0</td>\n",
              "      <td>3</td>\n",
              "      <td>0</td>\n",
              "    </tr>\n",
              "    <tr>\n",
              "      <th>300</th>\n",
              "      <td>68</td>\n",
              "      <td>1</td>\n",
              "      <td>0</td>\n",
              "      <td>1</td>\n",
              "      <td>1</td>\n",
              "      <td>0</td>\n",
              "      <td>1</td>\n",
              "      <td>2</td>\n",
              "      <td>3</td>\n",
              "      <td>0</td>\n",
              "    </tr>\n",
              "    <tr>\n",
              "      <th>301</th>\n",
              "      <td>57</td>\n",
              "      <td>1</td>\n",
              "      <td>0</td>\n",
              "      <td>0</td>\n",
              "      <td>1</td>\n",
              "      <td>1</td>\n",
              "      <td>1</td>\n",
              "      <td>1</td>\n",
              "      <td>3</td>\n",
              "      <td>0</td>\n",
              "    </tr>\n",
              "    <tr>\n",
              "      <th>302</th>\n",
              "      <td>57</td>\n",
              "      <td>0</td>\n",
              "      <td>1</td>\n",
              "      <td>0</td>\n",
              "      <td>0</td>\n",
              "      <td>0</td>\n",
              "      <td>1</td>\n",
              "      <td>1</td>\n",
              "      <td>2</td>\n",
              "      <td>0</td>\n",
              "    </tr>\n",
              "  </tbody>\n",
              "</table>\n",
              "<p>303 rows × 10 columns</p>\n",
              "</div>"
            ],
            "text/plain": [
              "     age  sex  cp  fbs  restecg  exang  slope  ca  thal  target\n",
              "0     63    1   3    1        0      0      0   0     1       1\n",
              "1     37    1   2    0        1      0      0   0     2       1\n",
              "2     41    0   1    0        0      0      2   0     2       1\n",
              "3     56    1   1    0        1      0      2   0     2       1\n",
              "4     57    0   0    0        1      1      2   0     2       1\n",
              "..   ...  ...  ..  ...      ...    ...    ...  ..   ...     ...\n",
              "298   57    0   0    0        1      1      1   0     3       0\n",
              "299   45    1   3    0        1      0      1   0     3       0\n",
              "300   68    1   0    1        1      0      1   2     3       0\n",
              "301   57    1   0    0        1      1      1   1     3       0\n",
              "302   57    0   1    0        0      0      1   1     2       0\n",
              "\n",
              "[303 rows x 10 columns]"
            ]
          },
          "metadata": {},
          "execution_count": 3
        }
      ]
    },
    {
      "cell_type": "code",
      "metadata": {
        "id": "V7WYWeR3StYr",
        "colab": {
          "base_uri": "https://localhost:8080/",
          "height": 70
        },
        "outputId": "6f0ebf02-565c-4868-fd52-400e687bdaa4"
      },
      "source": [
        "#These are the meanings of above features in the dataset\n",
        "'''\n",
        "age\n",
        "sex\n",
        "chest pain type (4 values)\n",
        "resting blood pressure\n",
        "serum cholestoral in mg/dl\n",
        "fasting blood sugar > 120 mg/dl\n",
        "resting electrocardiographic results (values 0,1,2)\n",
        "maximum heart rate achieved\n",
        "exercise induced angina\n",
        "oldpeak = ST depression induced by exercise relative to rest\n",
        "the slope of the peak exercise ST segment\n",
        "number of major vessels (0-3) colored by flourosopy\n",
        "thal: 3 = normal; 6 = fixed defect; 7 = reversable defect\n",
        "'''"
      ],
      "execution_count": null,
      "outputs": [
        {
          "output_type": "execute_result",
          "data": {
            "application/vnd.google.colaboratory.intrinsic+json": {
              "type": "string"
            },
            "text/plain": [
              "'\\nage\\nsex\\nchest pain type (4 values)\\nresting blood pressure\\nserum cholestoral in mg/dl\\nfasting blood sugar > 120 mg/dl\\nresting electrocardiographic results (values 0,1,2)\\nmaximum heart rate achieved\\nexercise induced angina\\noldpeak = ST depression induced by exercise relative to rest\\nthe slope of the peak exercise ST segment\\nnumber of major vessels (0-3) colored by flourosopy\\nthal: 3 = normal; 6 = fixed defect; 7 = reversable defect\\n'"
            ]
          },
          "metadata": {},
          "execution_count": 4
        }
      ]
    },
    {
      "cell_type": "code",
      "metadata": {
        "id": "8ddfRhWRS7vx"
      },
      "source": [
        "# Divide the age feature  into groups \n",
        "# Group the data based on age (<30 , range(30,40) , range(40,50) ,  range(50,60) , range(60,70) , >=70 )\n",
        "#              = [ -1 ,     0        ,     1        ,         2     ,          3   ,   4   ]\n",
        "\n",
        "# Write code here\n",
        "\n",
        "list1 = []\n",
        "list2 = []\n",
        "list3 = []\n",
        "list4 = []\n",
        "list5 = []\n",
        "list6 = []\n",
        "\n",
        "for i in range(len(dataset)):\n",
        "\n",
        "        if dataset[\"age\"][i] < 30:\n",
        "                list1.append(dataset.loc[i])\n",
        "        elif dataset[\"age\"][i] >= 30 and dataset[\"age\"][i] < 40:\n",
        "                list2.append(dataset.loc[i]) \n",
        "        elif dataset[\"age\"][i] >= 40 and dataset[\"age\"][i] < 50:\n",
        "                list3.append(dataset.loc[i]) \n",
        "        elif dataset[\"age\"][i] >= 50 and dataset[\"age\"][i] < 60:\n",
        "                list4.append(dataset.loc[i]) \n",
        "        elif dataset[\"age\"][i] >= 60 and dataset[\"age\"][i] < 70:\n",
        "                list5.append(dataset.loc[i])\n",
        "        elif dataset[\"age\"][i] >= 70:\n",
        "                list6.append(dataset.loc[i])  "
      ],
      "execution_count": null,
      "outputs": []
    },
    {
      "cell_type": "code",
      "metadata": {
        "id": "wGT4FriITDRv"
      },
      "source": [
        "# QUESTION -1 :- (1mark)\n",
        "#       Bayes theorm \n",
        "#       Find the following from the above data set \n",
        "#           - Find P(\"cp\"=1,\"thal\"=2,\"slope\"=2 / Y=1) i.e.find the probability of ( \"cp\"=1 and \"thal\"=2 and \"slope\"=2 ) given that \"target\"=1\n",
        "#       Assign your answer to ans[-1]"
      ],
      "execution_count": null,
      "outputs": []
    },
    {
      "cell_type": "code",
      "metadata": {
        "id": "j-S6EAtsTGkp"
      },
      "source": [
        "#Write code here\n",
        "\n",
        "p =  len(dataset[(dataset[\"cp\"] == 1) & (dataset[\"thal\"] == 2) & (dataset[\"slope\"] == 2) & (dataset[\"target\"] == 1)]) / len(dataset[dataset[\"target\"] == 1])"
      ],
      "execution_count": null,
      "outputs": []
    },
    {
      "cell_type": "code",
      "metadata": {
        "id": "bvqK719GTOKz"
      },
      "source": [
        "#Write your answer here\n",
        "ans[0]= p"
      ],
      "execution_count": null,
      "outputs": []
    },
    {
      "cell_type": "code",
      "metadata": {
        "id": "ir_vfuHsTQdj"
      },
      "source": [
        "# QUESTION -2 :- (1mark)\n",
        "#       Find the prior distribution on the whole above data set , i.e. P(Y=1) and P(Y=0)\n",
        "#       Enter value of P(Y=1) in ans[0]"
      ],
      "execution_count": null,
      "outputs": []
    },
    {
      "cell_type": "code",
      "metadata": {
        "id": "G9THBVeKTVxL"
      },
      "source": [
        "# Write your code here\n",
        "#P(Y)\n",
        "#Prior distribution\n",
        "\n",
        "p_y1 = len(dataset[dataset[\"target\"] == 1]) / len(dataset)"
      ],
      "execution_count": null,
      "outputs": []
    },
    {
      "cell_type": "code",
      "metadata": {
        "id": "nf4lK5-gTXzn"
      },
      "source": [
        "# Enter your answer here\n",
        "ans[1]= p_y1"
      ],
      "execution_count": null,
      "outputs": []
    },
    {
      "cell_type": "code",
      "metadata": {
        "id": "8ITQ0S4cTah0"
      },
      "source": [
        "# QUESTION -3:- (3marks)\n",
        "#         Find the class conditional distribution on the above data set i.e. find P(X/Y)\n",
        "#         Note: If class conditional probability = 0 assign 0.00000000000000001 (a low value) \n",
        "#         Find the class conditional probability of the feature \"slope\"= 0,1,2 when \"target\"=0 i.e. \n",
        "# P(X(slope)=i/Y=0) where i=0,1,2\n",
        "#         Assign the answer to ans[1] in form of a list as [P(X(slope)=0/Y=0) , P(X(slope)=1/Y=0) ,\n",
        "# P(X(slope)=2/Y=0)]"
      ],
      "execution_count": null,
      "outputs": []
    },
    {
      "cell_type": "code",
      "metadata": {
        "id": "Vy8IWj_wTfVI"
      },
      "source": [
        "#Write your code below\n",
        "#Class conditional distribution\n",
        "#P(x/y)\n",
        "\n",
        "age_prob0 = {-1: len(dataset[(dataset[\"age\"] < 30) & (dataset[\"target\"] == 0)]) / len(dataset[dataset[\"target\"] == 0]),\n",
        "             0: len(dataset[(dataset[\"age\"] >= 30) & (dataset[\"age\"] < 40) & (dataset[\"target\"] == 0)]) / len(dataset[dataset[\"target\"] == 0]),\n",
        "             1: len(dataset[(dataset[\"age\"] >= 40) & (dataset[\"age\"] < 50) & (dataset[\"target\"] == 0)]) / len(dataset[dataset[\"target\"] == 0]),\n",
        "             2: len(dataset[(dataset[\"age\"] >= 50) & (dataset[\"age\"] < 60) & (dataset[\"target\"] == 0)]) / len(dataset[dataset[\"target\"] == 0]),\n",
        "             3: len(dataset[(dataset[\"age\"] >= 60) & (dataset[\"age\"] < 70) & (dataset[\"target\"] == 0)]) / len(dataset[dataset[\"target\"] == 0]),\n",
        "             4: len(dataset[(dataset[\"age\"] >= 70) & (dataset[\"target\"] == 0)]) / len(dataset[dataset[\"target\"] == 0])}\n",
        "age_prob1 = {-1: len(dataset[(dataset[\"age\"] < 30) & (dataset[\"target\"] == 1)]) / len(dataset[dataset[\"target\"] == 1]),\n",
        "             0: len(dataset[(dataset[\"age\"] >= 30) & (dataset[\"age\"] < 40) & (dataset[\"target\"] == 1)]) / len(dataset[dataset[\"target\"] == 1]),\n",
        "             1: len(dataset[(dataset[\"age\"] >= 40) & (dataset[\"age\"] < 50) & (dataset[\"target\"] == 1)]) / len(dataset[dataset[\"target\"] == 1]),\n",
        "             2: len(dataset[(dataset[\"age\"] >= 50) & (dataset[\"age\"] < 60) & (dataset[\"target\"] == 1)]) / len(dataset[dataset[\"target\"] == 1]),\n",
        "             3: len(dataset[(dataset[\"age\"] >= 60) & (dataset[\"age\"] < 70) & (dataset[\"target\"] == 1)]) / len(dataset[dataset[\"target\"] == 1]),\n",
        "             4: len(dataset[(dataset[\"age\"] >= 70) & (dataset[\"target\"] == 1)]) / len(dataset[dataset[\"target\"] == 1])}\n",
        "\n",
        "for key, val in age_prob0.items():\n",
        "    if age_prob0[key] == 0:\n",
        "        age_prob0[key] = 0.00000000000000001\n",
        "\n",
        "for key, val in age_prob1.items():\n",
        "    if age_prob1[key] == 0:\n",
        "        age_prob1[key] = 0.00000000000000001\n",
        "        \n",
        "\n",
        "sex_prob0 = {}\n",
        "sex_prob1 = {}\n",
        "for s in dataset[\"sex\"].unique():\n",
        "    sex_prob0[s] = len(dataset[(dataset[\"sex\"] == s) & (dataset[\"target\"] == 0)]) / len(dataset[dataset[\"target\"] == 0])\n",
        "    if sex_prob0[s] == 0:\n",
        "        sex_prob0[s] = 0.00000000000000001\n",
        "    sex_prob1[s] = len(dataset[(dataset[\"sex\"] == s) & (dataset[\"target\"] == 1)]) / len(dataset[dataset[\"target\"] == 1])\n",
        "    if sex_prob1[s] == 0:\n",
        "        sex_prob1[s] = 0.00000000000000001\n",
        "\n",
        "cp_prob0 = {}\n",
        "cp_prob1 = {}\n",
        "for c in dataset[\"cp\"].unique():\n",
        "    cp_prob0[c] = len(dataset[(dataset[\"cp\"] == c) & (dataset[\"target\"] == 0)]) / len(dataset[dataset[\"target\"] == 0])\n",
        "    if cp_prob0[c] == 0:\n",
        "        cp_prob0[c] = 0.00000000000000001\n",
        "    cp_prob1[c] = len(dataset[(dataset[\"cp\"] == c) & (dataset[\"target\"] == 1)]) / len(dataset[dataset[\"target\"] == 1])\n",
        "    if cp_prob1[c] == 0:\n",
        "        cp_prob1[c] = 0.00000000000000001\n",
        "\n",
        "fbs_prob0 = {}\n",
        "fbs_prob1 = {}\n",
        "for f in dataset[\"fbs\"].unique():\n",
        "    fbs_prob0[f] = len(dataset[(dataset[\"fbs\"] == f) & (dataset[\"target\"] == 0)]) / len(dataset[dataset[\"target\"] == 0])\n",
        "    if fbs_prob0[f] == 0:\n",
        "        fbs_prob0[f] = 0.00000000000000001\n",
        "    fbs_prob1[f] = len(dataset[(dataset[\"fbs\"] == f) & (dataset[\"target\"] == 1)]) / len(dataset[dataset[\"target\"] == 1])\n",
        "    if fbs_prob1[f] == 0:\n",
        "        fbs_prob1[f] = 0.00000000000000001\n",
        "\n",
        "restecg_prob0 = {}\n",
        "restecg_prob1 = {}\t\n",
        "for r in dataset[\"restecg\"].unique():\n",
        "    restecg_prob0[r] = len(dataset[(dataset[\"restecg\"] == r) & (dataset[\"target\"] == 0)]) / len(dataset[dataset[\"target\"] == 0])\n",
        "    if restecg_prob0[r] == 0:\n",
        "        restecg_prob0[r] = 0.00000000000000001\n",
        "    restecg_prob1[r] = len(dataset[(dataset[\"restecg\"] == r) & (dataset[\"target\"] == 1)]) / len(dataset[dataset[\"target\"] == 1])\n",
        "    if restecg_prob1[r] == 0:\n",
        "        restecg_prob1[r] = 0.00000000000000001\n",
        "\n",
        "exang_prob0 = {}\n",
        "exang_prob1 = {}\t\n",
        "for e in dataset[\"exang\"].unique():\n",
        "    exang_prob0[e] = len(dataset[(dataset[\"exang\"] == e) & (dataset[\"target\"] == 0)]) / len(dataset[dataset[\"target\"] == 0])\n",
        "    if exang_prob0[e] == 0:\n",
        "        exang_prob0[e] = 0.00000000000000001\n",
        "    exang_prob1[e] = len(dataset[(dataset[\"exang\"] == e) & (dataset[\"target\"] == 1)]) / len(dataset[dataset[\"target\"] == 1])\n",
        "    if exang_prob1[e] == 0:\n",
        "        exang_prob1[e] = 0.00000000000000001\n",
        "\n",
        "slope_prob0 = {}\n",
        "slope_prob1 = {}\n",
        "for s in dataset[\"slope\"].unique():\n",
        "    slope_prob0[s] = len(dataset[(dataset[\"slope\"] == s) & (dataset[\"target\"] == 0)]) / len(dataset[dataset[\"target\"] == 0])\n",
        "    if slope_prob0[s] == 0:\n",
        "        slope_prob0[s] = 0.00000000000000001\n",
        "    slope_prob1[s] = len(dataset[(dataset[\"slope\"] == s) & (dataset[\"target\"] == 1)]) / len(dataset[dataset[\"target\"] == 1])\t\n",
        "    if slope_prob1[s] == 0:\n",
        "        slope_prob1[s] = 0.00000000000000001\n",
        "\n",
        "ca_prob0 = {}\n",
        "ca_prob1 = {}\t\n",
        "for c in dataset[\"ca\"].unique():\n",
        "    ca_prob0[c] = len(dataset[(dataset[\"ca\"] == c) & (dataset[\"target\"] == 0)]) / len(dataset[dataset[\"target\"] == 0])\n",
        "    if ca_prob0[c] == 0:\n",
        "        ca_prob0[c] = 0.00000000000000001\n",
        "    ca_prob1[c] = len(dataset[(dataset[\"ca\"] == c) & (dataset[\"target\"] == 1)]) / len(dataset[dataset[\"target\"] == 1])\n",
        "    if ca_prob1[c] == 0:\n",
        "        ca_prob1[c] = 0.00000000000000001\n",
        "\n",
        "thal_prob0 = {}\n",
        "thal_prob1 = {}\n",
        "for t in dataset[\"thal\"].unique():\n",
        "    thal_prob0[t] = len(dataset[(dataset[\"thal\"] == t) & (dataset[\"target\"] == 0)]) / len(dataset[dataset[\"target\"] == 0])\n",
        "    if thal_prob0[t] == 0:\n",
        "        thal_prob0[t] = 0.00000000000000001\n",
        "    thal_prob1[t] = len(dataset[(dataset[\"thal\"] == t) & (dataset[\"target\"] == 1)]) / len(dataset[dataset[\"target\"] == 1])\n",
        "    if thal_prob1[t] == 0:\n",
        "        thal_prob1[t] = 0.00000000000000001"
      ],
      "execution_count": null,
      "outputs": []
    },
    {
      "cell_type": "code",
      "metadata": {
        "id": "SwGyViZZThMw"
      },
      "source": [
        "# Assign your answer here\n",
        "ans[2]= [slope_prob0[0], slope_prob0[1], slope_prob0[2]]"
      ],
      "execution_count": null,
      "outputs": []
    },
    {
      "cell_type": "code",
      "metadata": {
        "id": "UhrHktcrToq5"
      },
      "source": [
        "# QUESTION - 4:- (3marks)\n",
        "#         Find the posterior distribution of the above dataset\n",
        "#         i.e. Find P(Y/X) \n",
        "#         For X={\"age\":-1,'sex': 0,'cp':0 ,'fbs':1,'restecg':1,'exang':1,'slope':2,'ca':1,'thal':1}\n",
        "#             - Find the label value (1 or 0) and also the respective confidence also the value of \n",
        "#               k in {  P(Y/X)=k*P(X1/Y)*P(X2/Y)*P(X3/Y)*P(X4/Y)......*P(Xn/Y)*P(Y) for n features   }\n",
        "#         eg: if the answer is Y=0 with confidence =0.89 and k= 2100.8\n",
        "#             your answer should be ans[2]=[0,0.89,2100.8]"
      ],
      "execution_count": null,
      "outputs": []
    },
    {
      "cell_type": "code",
      "metadata": {
        "id": "xgvSL0mGTq13"
      },
      "source": [
        "#Write code here\n",
        "# posterior distribution\n",
        "#P(y/x)\n",
        "\n",
        "# P(y = 1 | X) ----\n",
        "\n",
        "prob1 = age_prob1[-1] * sex_prob1[0] * cp_prob1[0] * fbs_prob1[1] * restecg_prob1[1] * exang_prob1[1] * slope_prob1[2] * ca_prob1[1] * thal_prob1[1] *  p_y1\n",
        "prob0 = age_prob0[-1] * sex_prob0[0] * cp_prob0[0] * fbs_prob0[1] * restecg_prob0[1] * exang_prob0[1] * slope_prob0[2] * ca_prob0[1] * thal_prob0[1] * (1-p_y1)\n",
        "\n",
        "if prob1 >= prob0:\n",
        "    label = 1\n",
        "    confidence = prob1 / (prob1 + prob0)\n",
        "else:\n",
        "    label = 0\n",
        "    confidence = prob0 / (prob1 + prob0)\n",
        "\n",
        "k = 1 / (prob1 + prob0)"
      ],
      "execution_count": null,
      "outputs": []
    },
    {
      "cell_type": "code",
      "metadata": {
        "id": "wOWQPZ91TxIO"
      },
      "source": [
        "#Write your answers here\n",
        "ans[3]= [label, confidence, k]"
      ],
      "execution_count": null,
      "outputs": []
    },
    {
      "cell_type": "code",
      "metadata": {
        "id": "ObEnKPLzTy_M"
      },
      "source": [
        "# Splitting the data for fitting a library naive bayes model from sklearn\n",
        "# Use train_test_split to split the data\n",
        "\n",
        "# Split the data into train and test (train-90% and test-10%)\n",
        "# Strictly use (randon_state = 42) in train_test_split ,so that your answer can be evaluated\n",
        "\n",
        "# Write your code here \n",
        "\n",
        "from sklearn.model_selection import train_test_split\n",
        "\n",
        "X = np.array(dataset[[\"age\", \"sex\", \"cp\", \"fbs\", \"restecg\", \"exang\", \"slope\", \"ca\", \"thal\"]])\n",
        "y = np.array(dataset[\"target\"])\n",
        "\n",
        "x_train, x_test, y_train, y_test = train_test_split(X, y, test_size = 0.1, random_state = 42)"
      ],
      "execution_count": null,
      "outputs": []
    },
    {
      "cell_type": "code",
      "metadata": {
        "id": "MfGPAaQIUOqR"
      },
      "source": [
        "# QUESTION - 5 :- (2marks)\n",
        "#         Import the  GaussianNB  model from sklearn and find the no of wrong predictions on the testing set\n",
        "# i.e. train and fit the model on the training set and predict the output if the heart disease exists or not \n",
        "#         Compare the predicted and the testing labels and enter the no.of wrongly predicted lables in ans[3]   "
      ],
      "execution_count": null,
      "outputs": []
    },
    {
      "cell_type": "code",
      "metadata": {
        "id": "C28MlyRXUSX0"
      },
      "source": [
        "#Importing the Gaussian naive bayes classifier model from sklearn\n",
        "\n",
        "from sklearn.naive_bayes import GaussianNB\n",
        "\n",
        "#Write your code below\n",
        "nb = GaussianNB()\n",
        "nb = nb.fit(x_train, y_train)\n",
        "y_pred = nb.predict(x_test)\n",
        "\n",
        "no_of_errors = 0\n",
        "for i in range(len(y_pred)):\n",
        "    if y_pred[i] != y_test[i]:\n",
        "        no_of_errors += 1"
      ],
      "execution_count": null,
      "outputs": []
    },
    {
      "cell_type": "code",
      "metadata": {
        "id": "OiP39HLlUWDH"
      },
      "source": [
        "#Write your answers here\n",
        "\n",
        "ans[4]= no_of_errors"
      ],
      "execution_count": null,
      "outputs": []
    },
    {
      "cell_type": "code",
      "metadata": {
        "id": "Ad6wPF4Aef-3"
      },
      "source": [
        "import json\n",
        "ans = [str(item) for item in ans]\n",
        "\n",
        "filename = \"ratn.bhosale@gmail.com_Ratnesh_Bhosale_NaiveBayes\"\n",
        "\n",
        "# Eg if your name is Saurav Joshi and email id is sauravjoshi123@gmail.com, filename becomes\n",
        "# filename = sauravjoshi123@gmail.com_Saurav_Joshi_NaiveBayes"
      ],
      "execution_count": null,
      "outputs": []
    },
    {
      "cell_type": "markdown",
      "metadata": {
        "id": "3lf8tw_Ief-3"
      },
      "source": [
        "## Do not change anything below!!\n",
        "- Make sure you have changed the above variable \"filename\" with the correct value. Do not change anything below!!"
      ]
    },
    {
      "cell_type": "code",
      "metadata": {
        "id": "oZTQj_bmef-4",
        "outputId": "c0a031f6-7799-4f0d-8dd3-2b3caea6edf7"
      },
      "source": [
        "from importlib import import_module\n",
        "import os\n",
        "from pprint import pprint\n",
        "\n",
        "findScore = import_module('findScore')\n",
        "response = findScore.main(ans)\n",
        "response['details'] = filename\n",
        "with open(f'evaluation_{filename}.json', 'w') as outfile:\n",
        "    json.dump(response, outfile)\n",
        "pprint(response)"
      ],
      "execution_count": null,
      "outputs": [
        {
          "name": "stdout",
          "output_type": "stream",
          "text": [
            "{'Comments': 'Please make sure the Python script you are submitting is not '\n",
            "             'having errors. Try running before submitting',\n",
            " 'Message': 'Successfully submitted! Thanks for taking the exercise',\n",
            " 'details': 'sauravjoshi123@gmail.com_Saurav_Joshi_NaiveBayes',\n",
            " 'status': 'Success'}\n"
          ]
        }
      ]
    },
    {
      "cell_type": "code",
      "metadata": {
        "id": "YMwHxcwFef-5"
      },
      "source": [
        ""
      ],
      "execution_count": null,
      "outputs": []
    }
  ]
}